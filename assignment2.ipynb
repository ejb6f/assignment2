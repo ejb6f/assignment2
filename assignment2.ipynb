{
  "cells": [
    {
      "cell_type": "markdown",
      "id": "13ad028b-72b7-43ed-aa78-96fd4e518040",
      "metadata": {
        "id": "13ad028b-72b7-43ed-aa78-96fd4e518040"
      },
      "source": [
        "# Assignment: Data Wrangling and Exploratory Data Analysis\n",
        "## Do Q1 and Q2, and one other question.\n",
        "`! git clone https://www.github.com/DS3001/assignment2`"
      ]
    },
    {
      "cell_type": "markdown",
      "id": "5735a4d4-8be8-433a-a351-70eb8002e632",
      "metadata": {
        "id": "5735a4d4-8be8-433a-a351-70eb8002e632"
      },
      "source": [
        "**Q1.** Open the \"tidy_data.pdf\" document in the repo, which is a paper called Tidy Data by Hadley Wickham.\n",
        "\n",
        "  1. Read the abstract. What is this paper about?\n",
        "  2. Read the introduction. What is the \"tidy data standard\" intended to accomplish?\n",
        "  3. Read the intro to section 2. What does this sentence mean: \"Like families, tidy datasets are all alike but every messy dataset is messy in its own way.\" What does this sentence mean: \"For a given dataset, it’s usually easy to figure out what are observations and what are variables, but it is surprisingly difficult to precisely define variables and observations in general.\"\n",
        "  4. Read Section 2.2. How does Wickham define values, variables, and observations?\n",
        "  5. How is \"Tidy Data\" defined in section 2.3?\n",
        "  6. Read the intro to Section 3 and Section 3.1. What are the 5 most common problems with messy datasets? Why are the data in Table 4 messy? What is \"melting\" a dataset?\n",
        "  7. Why, specifically, is table 11 messy but table 12 tidy and \"molten\"?\n",
        "  8. Read Section 6. What is the \"chicken-and-egg\" problem with focusing on tidy data? What does Wickham hope happens in the future with further work on the subject of data wrangling?"
      ]
    },
    {
      "cell_type": "markdown",
      "source": [
        "1.   The paper is about data tidying as a process of data cleaning, and its related steps and procedures.\n",
        "2. The “tidy data standard” aims to facilitate initial exploration and analysis of the data and simplify the development of data analysis tools.\n",
        "3. The first quote means that tidy datasets are very much alike, because they follow similar structures and rules that allow for their analysis and editing to remain consistent. However, the same cannot be said for messy data sets, as unique and different problems will be found among, making them more difficult to tackle and less consistent. The second quote means that for any given dataset, it is easier to describe functional relationships between variables than between rows. This allows people to quickly understand the relationship between rows and columns, despite their respective definitions being a bit more complex to understand.\n",
        "4. Wickham defines values as information (typically numbers or strings) stored in a variable. A variable is defined as a container of all values that measure the same underlying attribute across units. Lastly, an observation is defined as a container of all values measured on the same unit.\n",
        "5. Tidy data is defined as a standard way of mapping the meaning of a dataset to its structure, considering the n how rows, columns and tables are matched up with observations, variables and types. For a dataset to be considered tidy, each variable must form a column, each observation must form a row, and each type of observational unit must form a table.\n",
        "6. The 5 most common problems with messy datasets are having column headers as values instead of  variable names, having multiple variables stored in one column, having variables stored in both rows and columns, having multiple types of observational units stored in the same table, and instances when a single observational unit is stored in multiple tables. The data in table 4 is messy because it carries multiple columns considering different income ranges. Melting a data set involves turning columns into rows to make the dataset more concise.\n",
        "7. Table 11 is considered messy because it carries multiple columns representing the same attribute measurement. Table 12 on the other hand is considered molten because its day columns were turned into rows under date, as they were stacked on top of one another.\n",
        "8. The “chicken-and-egg” problem on tidy data references that if tidy data is only as useful as the tools that work with it, then tidy tools will be inextricably linked to tidy data. This means that the analysis of datasets will become limited to tidy tools, where independently changing data structures or data tools will not improve workflow. Wickham hopes that in the future, others will build on this framework to develop even better data storage strategies and better tools.\n",
        "\n",
        "\n"
      ],
      "metadata": {
        "id": "aJyQaEOnzVNC"
      },
      "id": "aJyQaEOnzVNC"
    },
    {
      "cell_type": "markdown",
      "id": "da879ea7-8aac-48a3-b6c2-daea56d2e072",
      "metadata": {
        "id": "da879ea7-8aac-48a3-b6c2-daea56d2e072"
      },
      "source": [
        "**Q2.** This question provides some practice cleaning variables which have common problems.\n",
        "1. Numeric variable: For `./data/airbnb_hw.csv`, clean the `Price` variable as well as you can, and explain the choices you make. How many missing values do you end up with? (Hint: What happens to the formatting when a price goes over 999 dollars, say from 675 to 1,112?)\n",
        "2. Categorical variable: For the `./data/sharks.csv` data covered in the lecture, clean the \"Type\" variable as well as you can, and explain the choices you make.\n",
        "3. Dummy variable: For the pretrial data covered in the lecture, clean the `WhetherDefendantWasReleasedPretrial` variable as well as you can, and, in particular, replace missing values with `np.nan`.\n",
        "4. Missing values, not at random: For the pretrial data covered in the lecture, clean the `ImposedSentenceAllChargeInContactEvent` variable as well as you can, and explain the choices you make. (Hint: Look at the `SentenceTypeAllChargesAtConvictionInContactEvent` variable.)"
      ]
    },
    {
      "cell_type": "code",
      "source": [
        "#1.\n",
        "# import packages\n",
        "import pandas as pd\n",
        "import numpy as np\n",
        "\n",
        "# read the dataset\n",
        "df1 = pd.read_csv(\"airbnb_hw.csv\")\n",
        "\n",
        "# Check to see if \"Price\" variable has any missing values, none were displayed\n",
        "df1[\"Price\"].isnull().sum()\n",
        "\n",
        "# check the type of values above and below 1000 under the price column, found they are both str, but > 1000 values have commas\n",
        "df1.at[3493, \"Price\"]\n",
        "type(df1.at[3493, \"Price\"])\n",
        "df1.at[1272, \"Price\"]\n",
        "type(df1.at[1274, \"Price\"])\n",
        "\n",
        "# Change the value of a value under 1000 to one over 1000, results in int type value cast\n",
        "df1.at[3493, \"Price\"] = 2000\n",
        "type(df1.at[3493, \"Price\"])\n",
        "\n",
        "# Remove commas from values, convert \"Price\" column values from str to a more fitting type, int\n",
        "df1[\"Price\"] = pd.to_numeric(df1[\"Price\"].str.replace(\",\", \"\"), errors = \"coerce\").astype(\"Int64\")\n",
        "\n",
        "# Now that the \"Price\" variable is a float, checked how many missing variables it has, resulting in only 1\n",
        "df1[\"Price\"].isnull().sum()\n",
        "\n",
        "df1\n",
        "\n",
        "\n",
        "#2.\n",
        "# read the dataset\n",
        "df2 = pd.read_csv(\"sharks.csv\")\n",
        "\n",
        "# find the unique values of the \"Type\" variable\n",
        "df2['Type'].unique()\n",
        "\n",
        "# Change all unknown-related values under the \"Type\" column to \"Unknown\"\n",
        "df2['Type'] = df2['Type'].replace(\"Questionable\", \"Unknown\")\n",
        "df2['Type'] = df2['Type'].replace(\"Unconfirmed\", \"Unknown\")\n",
        "df2['Type'] = df2['Type'].replace(\"Unverified\", \"Unknown\")\n",
        "df2['Type'] = df2['Type'].replace(\"Invalid\", \"Unknown\")\n",
        "df2['Type'] = df2['Type'].replace(\"Under investigation\", \"Unknown\")\n",
        "\n",
        "# Change all of the water or watercraft related values under the \"Type\" column to \"Watercraft\"\n",
        "df2['Type'] = df2['Type'].replace(\"Boating\", \"Watercraft\")\n",
        "df2['Type'] = df2['Type'].replace(\"Sea Disaster\", \"Watercraft\")\n",
        "df2['Type'] = df2['Type'].replace(\"Boat\", \"Watercraft\")\n",
        "df2['Type'] = df2['Type'].replace(\"Boatomg\", \"Watercraft\")\n",
        "\n",
        "df2\n",
        "\n",
        "\n",
        "#3.\n",
        "# read the dataset\n",
        "df3 = pd.read_csv(\"VirginiaPretrialData2017.csv\")\n",
        "\n",
        "# rename the column to a shorter appropriate name\n",
        "df3.rename(columns={'WhetherDefendantWasReleasedPretrial': 'defendantReleased'}, inplace = True)\n",
        "\n",
        "# find the unique values of the \"defendantReleased\" variable\n",
        "df3[\"defendantReleased\"].unique()\n",
        "\n",
        "# replace numerical variables under the \"defendantReleased\" variable to boolean variables corresponding to whether the defendant was release, not released, or if the information is not available/conclusive\n",
        "df3[\"defendantReleased\"] = df3[\"defendantReleased\"].replace(1, True)\n",
        "df3[\"defendantReleased\"] = df3[\"defendantReleased\"].replace(3, False)\n",
        "df3[\"defendantReleased\"] = df3[\"defendantReleased\"].replace(0, False)\n",
        "df3[\"defendantReleased\"] = df3[\"defendantReleased\"].replace(9, None)\n",
        "\n",
        "# replace missing values in the \"\"defendantReleased\" variable with np.nan\n",
        "df3['defendantReleased'].fillna(np.nan, inplace = True)\n",
        "\n",
        "df3\n",
        "\n",
        "\n",
        "#4.\n",
        "# read the dataset\n",
        "df3 = pd.read_csv(\"VirginiaPretrialData2017.csv\")\n",
        "\n",
        "# check if there are any null value, found 0, emptry boxes were empty strinsg with a space\n",
        "df3['ImposedSentenceAllChargeInContactEvent'].isnull().sum()\n",
        "\n",
        "# change the data type of non-empty values\n",
        "not_space_mask = df3['ImposedSentenceAllChargeInContactEvent'] != ' '\n",
        "df3.loc[not_space_mask, 'ImposedSentenceAllChargeInContactEvent'] = pd.to_numeric(df3.loc[not_space_mask, 'ImposedSentenceAllChargeInContactEvent'], errors='coerce')\n",
        "\n",
        "# make dummy variable indivating whether ImposedSentenceAllChargeInContactEvent is emptry\n",
        "df3['ImposedSentenceIsNull'] = df3['ImposedSentenceAllChargeInContactEvent'] == ' '\n",
        "\n",
        "# Change the emptry values of 'ImposedSentenceAllChargeInContactEvent' given the values of 'SentenceTypeAllChargesAtConvictionInContactEvent', delete dummmy variable\n",
        "sentence_mapping = {\n",
        "    0: 'Probation/no incarceration',\n",
        "    1: 'Jail up to 12 months',\n",
        "    2: 'Prison (one year or more)',\n",
        "    4: 'Other',\n",
        "    9: 'Not applicable'}\n",
        "\n",
        "df3['ImposedSentenceAllChargeInContactEvent'] = np.where(\n",
        "    df3['ImposedSentenceIsNull'],\n",
        "    df3['SentenceTypeAllChargesAtConvictionInContactEvent'].map(sentence_mapping),\n",
        "    df3['ImposedSentenceAllChargeInContactEvent'])\n",
        "\n",
        "df3.drop('ImposedSentenceIsNull', axis = 1, inplace = True)\n",
        "\n",
        "df3"
      ],
      "metadata": {
        "id": "fQgvR9CbY-LO",
        "outputId": "58cb49c1-78ff-4aa3-9ef7-74a489f8c081",
        "colab": {
          "base_uri": "https://localhost:8080/"
        }
      },
      "id": "fQgvR9CbY-LO",
      "execution_count": 61,
      "outputs": [
        {
          "output_type": "stream",
          "name": "stderr",
          "text": [
            "<ipython-input-61-a4ebea6460b8>:31: DtypeWarning: Columns (1,4,5,7,79,80,81,82,83,84,108,163,164,165,166,168,169,170,171,172,173,174,175,176,177,178,179,180,181,182,183,184,185,186,187,188,189,190,191,192,193,194,195,196,197,198,199,200,201,202,203,204,205,206,207,208,209,210,211,212,213,214,215,216,217,218,219,220,221,222,223,224,225,226,227,228,229,230,231,232,233,234,235,236,237,238,239,240,241,242,243,244,245,246,247,248,249,250,251,252,253,254,255,256,257,258,259,260,261,262,263,264,265,266,267,268,270,271,272,273,275,276,277,278,279,280,281,282,283,284,285,286,287,288,289,290,291,292,293,294,295,296,297,301,302,303,306,307,308,309,310,311,312,313,314,315,316,317,318,319,320,321,322,323,324,325,326,327,328,329,330,331,332,333,334,335,336,337,338,339,340,341,342,343,344,345,346,347,348,349,350,351,352,353,354,355,356,357,358,359,360,361,362,363,364,365,366,367,368,369,370,371,372,373,374,375,376,377,378,379,380,381,382,383,384,385,386,387,388,389,390,391,392,393,394,395,396,397,398,399,400,401,402,403,404,405,406,407,408,409,410,411,412,413,414,415,416,417,418,419,420,421,422,423,424,425,426,427,428,429,430,431,432,433,434,435,436,437,438,439,440,441,442,443,444,445,446,447,448,449,450,451,452,453,454,455,456,457,458,459,460,461,462,463,464,465,466,467,468,469,470,471,472,473,474,475,476,477,478,479,480,481,482,483,484,485,486,487,488,489,490,491,492,493,494,495,496,497,498,499,500,502,503,504,505,506,507,508,509,510,511,512,513,514,515,516,517,518,519,520,521,522,523,524,525,526,527,528,529,530,531,532,533,534,535,536,537,538,539,540,541,542,543,544,545,706) have mixed types. Specify dtype option on import or set low_memory=False.\n",
            "  df3 = pd.read_csv(\"VirginiaPretrialData2017.csv\")\n"
          ]
        },
        {
          "output_type": "execute_result",
          "data": {
            "text/plain": [
              "0          NaN\n",
              "1        False\n",
              "2        False\n",
              "3        False\n",
              "4         True\n",
              "         ...  \n",
              "22981     True\n",
              "22982     True\n",
              "22983     True\n",
              "22984     True\n",
              "22985     True\n",
              "Name: defendantReleased, Length: 22986, dtype: object"
            ]
          },
          "metadata": {},
          "execution_count": 61
        }
      ]
    },
    {
      "cell_type": "markdown",
      "id": "c11bcd96-2834-41a4-80fe-d354b4277fd9",
      "metadata": {
        "id": "c11bcd96-2834-41a4-80fe-d354b4277fd9"
      },
      "source": [
        "**Q3.** This question provides some practice doing exploratory data analysis and visualization.\n",
        "\n",
        "The \"relevant\" variables for this question are:\n",
        "  - `level` - Level of institution (4-year, 2-year)\n",
        "  - `aid_value` - The average amount of student aid going to undergraduate recipients\n",
        "  - `control` - Public, Private not-for-profit, Private for-profit\n",
        "  - `grad_100_value` - percentage of first-time, full-time, degree-seeking undergraduates who complete a degree or certificate program within 100 percent of expected time (bachelor's-seeking group at 4-year institutions)\n",
        "\n",
        "1. Load the `./data/college_completion.csv` data with Pandas.\n",
        "2. What are are the dimensions of the data? How many observations are there? What are the variables included? Use `.head()` to examine the first few rows of data.\n",
        "3. Cross tabulate `control` and `level`. Describe the patterns you see.\n",
        "4. For `grad_100_value`, create a histogram, kernel density plot, boxplot, and statistical description.\n",
        "5. For `grad_100_value`, create a grouped kernel density plot by `control` and by `level`. Describe what you see. Use `groupby` and `.describe` to make grouped calculations of statistical descriptions of `grad_100_value` by `level` and `control`. Which institutions appear to have the best graduation rates?\n",
        "6. Create a new variable, `df['levelXcontrol']=df['level']+', '+df['control']` that interacts level and control. Make a grouped kernel density plot. Which institutions appear to have the best graduation rates?\n",
        "7. Make a kernel density plot of `aid_value`. Notice that your graph is \"bi-modal\", having two little peaks that represent locally most common values. Now group your graph by `level` and `control`. What explains the bi-modal nature of the graph? Use `groupby` and `.describe` to make grouped calculations of statistical descriptions of `aid_value` by `level` and `control`.\n",
        "8. Make a scatterplot of `grad_100_value` by `aid_value`. Describe what you see. Now make the same plot, grouping by `level` and then `control`. Describe what you see. For which kinds of institutions does aid seem to increase graduation rates?"
      ]
    },
    {
      "cell_type": "markdown",
      "id": "98d34a3b-c21d-4dc9-a8d2-fb7686804ceb",
      "metadata": {
        "id": "98d34a3b-c21d-4dc9-a8d2-fb7686804ceb"
      },
      "source": [
        "**Q4.** This question uses the Airbnb data to practice making visualizations.\n",
        "\n",
        "  1. Load the `./data/airbnb_hw.csv` data with Pandas. You should have cleaned the `Price` variable in question 2, and you'll need it later for this question.\n",
        "  2. What are are the dimensions of the data? How many observations are there? What are the variables included? Use `.head()` to examine the first few rows of data.\n",
        "  3. Cross tabulate `Room Type` and `Property Type`. What patterns do you see in what kinds of rentals are available? For which kinds of properties are private rooms more common than renting the entire property?\n",
        "  4. For `Price`, make a histogram, kernel density, box plot, and a statistical description of the variable. Are the data badly scaled? Are there many outliers? Use `log` to transform price into a new variable, `price_log`, and take these steps again.\n",
        "  5. Make a scatterplot of `price_log` and `Beds`. Describe what you see. Use `.groupby()` to compute a desciption of `Price` conditional on/grouped by the number of beds. Describe any patterns you see in the average price and standard deviation in prices.\n",
        "  6. Make a scatterplot of `price_log` and `Beds`, but color the graph by `Room Type` and `Property Type`. What patterns do you see? Compute a description of `Price` conditional on `Room Type` and `Property Type`. Which Room Type and Property Type have the highest prices on average? Which have the highest standard deviation? Does the mean or median appear to be a more reliable estimate of central tendency, and explain why?\n",
        "  7. We've looked a bit at this `price_log` and `Beds` scatterplot. Use seaborn to make a `jointplot` with `kind=hex`. Where are the data actually distributed? How does it affect the way you think about the plots in 5 and 6?"
      ]
    },
    {
      "cell_type": "markdown",
      "id": "649494cd-cfd6-4f80-992a-9994fc19e1d5",
      "metadata": {
        "id": "649494cd-cfd6-4f80-992a-9994fc19e1d5"
      },
      "source": [
        "**Q5.** Many important datasets contain a race variable, typically limited to a handful of values often including Black, White, Asian, Latino, and Indigenous. This question looks at data gathering efforts on this variable by the U.S. Federal government.\n",
        "\n",
        "1. How did the most recent US Census gather data on race?\n",
        "2. Why do we gather these data? What role do these kinds of data play in politics and society? Why does data quality matter?\n",
        "3. Please provide a constructive criticism of how the Census was conducted: What was done well? What do you think was missing? How should future large scale surveys be adjusted to best reflect the diversity of the population? Could some of the Census' good practices be adopted more widely to gather richer and more useful data?\n",
        "4. How did the Census gather data on sex and gender? Please provide a similar constructive criticism of their practices.\n",
        "5. When it comes to cleaning data, what concerns do you have about protected characteristics like sex, gender, sexual identity, or race? What challenges can you imagine arising when there are missing values? What good or bad practices might people adopt, and why?\n",
        "6. Suppose someone invented an algorithm to impute values for protected characteristics like race, gender, sex, or sexuality. What kinds of concerns would you have?"
      ]
    },
    {
      "cell_type": "markdown",
      "source": [
        "1. The most recent United States Census gathered data on race based on self-identification, where those who fill out the census may choose to report identifying as one or more race groups, given specific racial groups to check-off or leave unchecked.\n",
        "2. Data on race is gathered by the United States Census as it allows for the creation of statistics about race and the presentation of other estimates by racial groups. In politics and society, this data is extremely important, as it allows for the analysis of disparities among racial groups, therefore bringing to light potential discriminatory issues hurting distinct racial groups. Gaining insight and analytics on this topic is imperative because it reveals trends among races that may benefit some through privilege and oppress others through racism and lack of opportunities. Data quality matters, especially for sensitive information such as race, because it sets forward the accuracy and precision of future analysis, thus, helping strengthen the validity of findings gathered from such data.\n",
        "3. The United States census is a data acquiring process that takes multiple key steps. One that is done very well is its address listing procedure. Here, the Census Bureau compiles a list of addresses across the country, which is then utilized as the basis for sending out census questionnaires. This is an extremely valuable part of the process as it ensures that every residential unit is accounted for, or at least, most of them. By incorporating all residential units, the Census Bureau is able to be inclusive of the United States population by having access to a sample size as big as it can be. This allows for more accurate statistical representation of the United States population, and thus, promotes better quality of data gathering and insights production. The Census Bureau reinforced these principles by a non-response follow-up, involving census workers to conduct in-person interviews at households that do not respond to the initial questionnaire, ultimately allowing for a more inclusive data collection. However, one of the most prominent concerns with the census process is the undercounting of minority groups. Historically, racial minorities, low-income households, immigrants, young children, and the homeless have been underrepresented in the census, resulting in a less inclusive representation of the country’s population. To tackle these obstacles, the Census Bureau should prepare census workers on how to adequately address underrepresentation in the questionnaires by placing their efforts more acutely within areas that have been historically undercounted.\n",
        "4. The census does not ask any questions about gender, sexual orientation, or sex at birth. They however inquire a person’s current sex, with only two options being available: male and female. These options are filled out based on how respondents identify themselves. From a data science perspective, holding a binary measurement simplifies future analyses restricting respondents to only two categories. However, these restrictions may cause political turmoil concerning sex/gender debates, as some people do not conform to the sex binary. Moreover, it restricts users' availability to provide unique inputs, potentially resulting in undercounting.\n",
        "5. The gathering of protected characteristics like sex, gender, sexual identity, or race may be concerning because some people may choose not to disclose such information, resulting in unwanted missing data. A challenge that may arise from such missing data includes the uncertainty and unanswered questions one may have regarding the variable that may have missing values. Without such valuable information, conclusions will become harder to make and analyses concerning this topic would have lower validity.\n",
        "6. Although imputation might be a helpful way to deal with missing data, the values imputed will be estimates or approximations of those missing, therefore decreasing the validity of future analyses done for such datasets.\n"
      ],
      "metadata": {
        "id": "_268Yzlrz15h"
      },
      "id": "_268Yzlrz15h"
    },
    {
      "cell_type": "markdown",
      "id": "2f38f2fd-6381-481d-bba9-017f3d363426",
      "metadata": {
        "id": "2f38f2fd-6381-481d-bba9-017f3d363426"
      },
      "source": [
        "**Q6.** Open the `./data/CBO_data.pdf` file. This contains tax data for 2019, explaining where the money comes from that the U.S. Federal Government Spends in terms of taxation on individuals/families and payroll taxes (the amount that your employer pays in taxes on your wages).\n",
        "\n",
        "For some context, the Federal government ultimately spent about $4.4 trillion in 2019, which was 21% of GDP (the total monetary value of all goods and services produced within the United States). Individual Income Taxes is the amount individuals pay on their wages to the Federal government, Corporate Income Taxes is the taxes individuals pay on capital gains from investment when they sell stock or other financial instruments, Payroll Taxes is the tax your employer pays on your wages, Excises and Customs Duties are taxes on goods or services like sin taxes on cigarettes or alcohol, and Estate and Gift Taxes are taxes paid on transfers of wealth to other people.\n",
        "\n",
        "1. Get the Millions of Families and Billions of Dollars data into a .csv file and load it with Pandas.\n",
        "2. Create a bar plot of individual income taxes by income decile. Explain what the graph shows. Why are some values negative?\n",
        "3. Create a bar plot of Total Federal Taxes by income decile. Which deciles are paying net positive amounts, and which are paying net negative amounts?\n",
        "4. Create a stacked bar plot for which Total Federal Taxes is grouped by Individual Income Taxes, Payroll Taxes, Excises and Customs Duties, and Estate and Gift Taxes. How does the share of taxes paid vary across the adjusted income deciles? (Hint: Are these the kind of data you want to melt?)\n",
        "5. Below the Total line for Millions of Families and Billions of Dollars, there are data for the richest of the richest families. Plot this alongside the bars for the deciles above the Total line. Describe your results.\n",
        "6. Get the Percent Distribution data into a .csv file and load it with Pandas. Create a bar graph of Total Federal Taxes by income decile.\n",
        "7. A tax system is progressive if higher-income and wealthier individuals pay more than lower-income and less wealthy individuals, and it is regressive if the opposite is true. Is the U.S. tax system progressive in terms of amount paid? In terms of the percentage of the overall total?\n",
        "8. Do the rich pay enough in taxes? Defend your answer."
      ]
    }
  ],
  "metadata": {
    "kernelspec": {
      "display_name": "Python 3 (ipykernel)",
      "language": "python",
      "name": "python3"
    },
    "language_info": {
      "codemirror_mode": {
        "name": "ipython",
        "version": 3
      },
      "file_extension": ".py",
      "mimetype": "text/x-python",
      "name": "python",
      "nbconvert_exporter": "python",
      "pygments_lexer": "ipython3",
      "version": "3.10.4"
    },
    "colab": {
      "provenance": []
    }
  },
  "nbformat": 4,
  "nbformat_minor": 5
}